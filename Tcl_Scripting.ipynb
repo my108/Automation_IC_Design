{
 "cells": [
  {
   "cell_type": "markdown",
   "id": "7316eb72",
   "metadata": {},
   "source": [
    "Importing Libraries needed to run script"
   ]
  },
  {
   "cell_type": "code",
   "execution_count": 2,
   "id": "fc89e174-4bd3-4334-9423-b2e9011005e5",
   "metadata": {},
   "outputs": [],
   "source": [
    "import os\n",
    "import numpy as np\n",
    "import pandas as pd1\n",
    "import shutil\n",
    "import csv"
   ]
  },
  {
   "cell_type": "code",
   "execution_count": 9,
   "id": "2b6a486e-5610-47f2-8c8f-f0b40e16adc4",
   "metadata": {
    "tags": []
   },
   "outputs": [
    {
     "data": {
      "text/plain": [
       "0"
      ]
     },
     "execution_count": 9,
     "metadata": {},
     "output_type": "execute_result"
    }
   ],
   "source": [
    "os.system(\"vivado -mode batch -source tcl_ad.tcl\")"
   ]
  },
  {
   "cell_type": "code",
   "execution_count": 2,
   "id": "e3703c42-9847-41d4-ad94-15116ee2bfbb",
   "metadata": {},
   "outputs": [
    {
     "data": {
      "text/plain": [
       "['adder.v', 'shift.v', 'counter.v', 'mul.v', 'd_flop.v', 'div.v']"
      ]
     },
     "execution_count": 2,
     "metadata": {},
     "output_type": "execute_result"
    }
   ],
   "source": [
    "modules = os.listdir(\"verilog_folder\")\n",
    "modules"
   ]
  },
  {
   "cell_type": "code",
   "execution_count": 11,
   "id": "448bc612",
   "metadata": {},
   "outputs": [],
   "source": [
    "\n",
    "os.mkdir(\"results\")"
   ]
  },
  {
   "cell_type": "code",
   "execution_count": 4,
   "id": "47d8e94a-95b4-4a18-9834-bfd4e70743ff",
   "metadata": {},
   "outputs": [],
   "source": [
    "os.system(\"vivado -mode batch -source tcl_run_re.tcl\")"
   ]
  },
  {
   "cell_type": "code",
   "execution_count": 3,
   "id": "725acb52-9ad4-4bd8-823b-0fd8d7cdc6e5",
   "metadata": {},
   "outputs": [
    {
     "data": {
      "text/plain": [
       "['adder', 'counter', 'd_flop', 'div', 'mul', 'shift']"
      ]
     },
     "execution_count": 3,
     "metadata": {},
     "output_type": "execute_result"
    }
   ],
   "source": [
    "impl_dir = os.listdir(\"results\")\n",
    "impl_dir"
   ]
  },
  {
   "cell_type": "markdown",
   "id": "0c9fcf5e",
   "metadata": {},
   "source": [
    "Generating Result.csv file \n",
    "The approach is to search for certain text in the generated reports and extract out the numerical values needed."
   ]
  },
  {
   "cell_type": "code",
   "execution_count": 7,
   "id": "3bfbc79b-cde0-4eb1-879f-aafac4fd8995",
   "metadata": {},
   "outputs": [
    {
     "name": "stdout",
     "output_type": "stream",
     "text": [
      "div module is not sythesisable so check and correct it\n"
     ]
    }
   ],
   "source": [
    "DatapathDelay = []\n",
    "logic_delay=[]\n",
    "routing_delay=[]\n",
    "\n",
    "file_name=[]\n",
    "\n",
    "DynamicPower = []\n",
    "static_power=[]\n",
    "signal_power=[]\n",
    "logic_power=[]\n",
    "i_o_power=[]\n",
    "total_power=[]\n",
    "\n",
    "\n",
    "f7_muxes=[]\n",
    "lut_as_memory=[]\n",
    "lut_as_logic=[]\n",
    "slice_lut=[]\n",
    "lut1=[]\n",
    "lut2=[]\n",
    "lut3=[]\n",
    "lut4=[]\n",
    "lut5=[]\n",
    "lut6=[]\n",
    "lut7=[]\n",
    "\n",
    "\n",
    "for folder in impl_dir:\n",
    "    folder_path = os.path.join(\"results\", folder)\n",
    "    if os.path.isdir(folder_path):\n",
    "     if(len(os.listdir(folder_path))):\n",
    "        # Read the timing.txt file in each folder\n",
    "        file_name.append(folder)\n",
    "        timing_file = os.path.join(folder_path, \"timing.txt\")\n",
    "        power_file = os.path.join(folder_path,\"power.txt\")\n",
    "        utilization_file = os.path.join(folder_path,\"utilization.txt\")\n",
    "        if os.path.exists(timing_file):\n",
    "            with open(timing_file) as f:\n",
    "                lines = f.read()\n",
    "                timing = lines.split(\"\\n\")\n",
    "                    \n",
    "                timing_info = [line for line in timing if \"Data Path Delay\" in line]\n",
    "                dpd = float(timing_info[0].split()[3][:-2])\n",
    "                DatapathDelay.append(dpd)\n",
    "               \n",
    "\n",
    "                timing_info = [line for line in timing if \"Data Path Delay\" in line]\n",
    "                dpd = float(timing_info[0].split()[5][:-2])\n",
    "                logic_delay.append(dpd)\n",
    "               \n",
    "\n",
    "                timing_info = [line for line in timing if \"Data Path Delay\" in line]\n",
    "                dpd = float(timing_info[0].split()[8][:-2])\n",
    "                routing_delay.append(dpd)\n",
    "                \n",
    "        if os.path.exists(power_file ):\n",
    "                    with open(power_file ) as f:\n",
    "                        lines = f.read()\n",
    "                        power = lines.split(\"\\n\")\n",
    "                            \n",
    "                        power_info = [line for line in power if \"Dynamic (W)\" in line]\n",
    "                        dpd = float(power_info[0].split()[4])\n",
    "                        DynamicPower.append(dpd)\n",
    "                       \n",
    "\n",
    "                        power_info = [line for line in power if \"Static Power\" in line]\n",
    "                        dpd = float(power_info[0].split()[4])\n",
    "                        static_power.append(dpd)\n",
    "                        \n",
    "\n",
    "                        power_info = [line for line in power if \"Signals\" in line]\n",
    "                        dpd = float(power_info[0].split()[3])\n",
    "                        signal_power.append(dpd)\n",
    "                        \n",
    "                       \n",
    "                        power_info = [line for line in power if \"I/O\" in line]\n",
    "                        dpd = float(power_info[0].split()[3])\n",
    "                        i_o_power.append(dpd)\n",
    "                        \n",
    "\n",
    "                        power_info = [line for line in power if \"Total On-Chip Power (W)\" in line]\n",
    "                        dpd = float(power_info[0].split()[6])\n",
    "                        total_power.append(dpd)\n",
    "                        \n",
    "        if os.path.exists(utilization_file ):\n",
    "                    with open(utilization_file) as f:\n",
    "                        lines = f.read()\n",
    "                        uti = lines.split(\"\\n\")\n",
    "                            \n",
    "                        uti_info = [line for line in uti if \"Slice LUTs\" in line]\n",
    "                        dpd = float(uti_info[0].split()[4])\n",
    "                        slice_lut.append(dpd)\n",
    "                        \n",
    "\n",
    "                        uti_info = [line for line in uti if \"LUT as Logic\" in line]\n",
    "                        dpd = float(uti_info[0].split()[5])\n",
    "                        lut_as_logic.append(dpd)\n",
    "                        \n",
    "\n",
    "                        uti_info = [line for line in uti if \"LUT as Memory\" in line]\n",
    "                        dpd = float(uti_info[0].split()[5])\n",
    "                        lut_as_memory.append(dpd)\n",
    "                        \n",
    "                       \n",
    "                        uti_info = [line for line in uti if \"LUT1\" in line]\n",
    "                        if len(uti_info)!=0:\n",
    "                            dpd = float(uti_info[0].split()[3])\n",
    "                            lut1.append(dpd)\n",
    "                           \n",
    "                        else :\n",
    "                              lut1.append(0)\n",
    "                        uti_info = [line for line in uti if \"LUT2\" in line]\n",
    "                        if len(uti_info)!=0:\n",
    "                            dpd = float(uti_info[0].split()[3])\n",
    "                            lut2.append(dpd)\n",
    "                            \n",
    "                        else :\n",
    "                              lut2.append(0)\n",
    "\n",
    "                        uti_info = [line for line in uti if \"LUT3\" in line]\n",
    "                        if len(uti_info)!=0:\n",
    "                            dpd = float(uti_info[0].split()[3])\n",
    "                            lut3.append(dpd)\n",
    "                            \n",
    "                        else :\n",
    "                              lut3.append(0)\n",
    "                        \n",
    "                        uti_info = [line for line in uti if \"LUT4\" in line]\n",
    "                        if len(uti_info)!=0:\n",
    "                            dpd = float(uti_info[0].split()[3])\n",
    "                            lut4.append(dpd)\n",
    "                            \n",
    "                        else :\n",
    "                              lut4.append(0)\n",
    "                        uti_info = [line for line in uti if \"LUT5\" in line]\n",
    "                        if len(uti_info)!=0:\n",
    "                            dpd = float(uti_info[0].split()[3])\n",
    "                            lut5.append(dpd)\n",
    "                            \n",
    "                        else :\n",
    "                              lut5.append(0)\n",
    "                        \n",
    "                        uti_info = [line for line in uti if \"LUT6\" in line]\n",
    "                        if len(uti_info)!=0:\n",
    "                            dpd = float(uti_info[0].split()[3])\n",
    "                            lut6.append(dpd)\n",
    "                            \n",
    "                        else :\n",
    "                              lut6.append(0)\n",
    "                        \n",
    "                        uti_info = [line for line in uti if \"LUT7\" in line]\n",
    "                        if len(uti_info)!=0:\n",
    "                            dpd = float(uti_info[0].split()[3])\n",
    "                            lut7.append(dpd)\n",
    "                           \n",
    "                        else :\n",
    "                              lut7.append(0)\n",
    "                        \n",
    "                        uti_info = [line for line in uti if \"F7 Muxes\" in line]\n",
    "                        dpd = float(uti_info[0].split()[4])\n",
    "                        f7_muxes.append(dpd)\n",
    "                        \n",
    "     else:\n",
    "          print(f\"{folder} module is not sythesisable so check and correct it\")   \n",
    "                        \n",
    "# Create a DataFrame to store the extracted data\n"
   ]
  },
  {
   "cell_type": "code",
   "execution_count": 11,
   "id": "75c74813",
   "metadata": {},
   "outputs": [
    {
     "data": {
      "text/plain": [
       "[4.364, 5.937, 4.147, 10.03, 4.141]"
      ]
     },
     "execution_count": 11,
     "metadata": {},
     "output_type": "execute_result"
    }
   ],
   "source": [
    "DatapathDelay"
   ]
  },
  {
   "cell_type": "code",
   "execution_count": 8,
   "id": "10e911d7-5cf3-47d1-95b4-a3848c307702",
   "metadata": {},
   "outputs": [
    {
     "name": "stdout",
     "output_type": "stream",
     "text": [
      "Data extracted and saved to result_summary.csv\n"
     ]
    }
   ],
   "source": [
    "df = pd1.DataFrame({\n",
    "    \"Design\": file_name,\n",
    "    \"DatapathDelay\":DatapathDelay,\n",
    "    \"LogicDelay\": logic_delay,\n",
    "    \"RoutingDelay\": routing_delay,\n",
    "    \"Dynamic Power\": DynamicPower,\n",
    "    \"Static Power\": static_power,\n",
    "    \"Signal Power\": signal_power,\n",
    "    \"I/O Power\":i_o_power,\n",
    "    \"Total Power\":total_power,\n",
    "    \"f7 muxes\" : f7_muxes,\n",
    "    \"lut as memory\":lut_as_memory,\n",
    "    \"lut as logic\": lut_as_logic,\n",
    "    \"slice lut\" : slice_lut,\n",
    "    \"lut1\":lut1,\n",
    "    \"lut2\":lut2,\n",
    "    \"lut3\":lut3,\n",
    "    \"lut4\":lut4,\n",
    "    \"lut5\":lut5,\n",
    "    \"lut6\":lut6,\n",
    "    \"lut7\":lut7    \n",
    "})\n",
    "\n",
    "# Save the DataFrame to a CSV file\n",
    "output_csv = \"result_summary.csv\"\n",
    "df.to_csv(output_csv, index=False)\n",
    "\n",
    "print(f\"Data extracted and saved to {output_csv}\")"
   ]
  },
  {
   "cell_type": "code",
   "execution_count": 9,
   "id": "63cf471c-9db6-4f3b-9a6b-9bdc1434b549",
   "metadata": {},
   "outputs": [
    {
     "name": "stdout",
     "output_type": "stream",
     "text": [
      "    Design  DatapathDelay  LogicDelay  RoutingDelay  Dynamic Power  \\\n",
      "0    adder          5.937       3.571         2.366          0.902   \n",
      "1  counter          4.364       2.857         1.506          3.671   \n",
      "2   d_flop          4.147       2.764         1.382          0.265   \n",
      "3      mul         10.030       4.750         5.280          6.985   \n",
      "4    shift          4.141       2.709         1.432          0.289   \n",
      "\n",
      "   Static Power  Signal Power  I/O Power  Total Power  f7 muxes  \\\n",
      "0         0.133         0.020      0.877        1.035       0.0   \n",
      "1         0.142         0.061      3.566        3.813       0.0   \n",
      "2         0.131         0.014      0.245        0.397       0.0   \n",
      "3         0.156         0.204      6.644        7.141       0.0   \n",
      "4         0.132         0.026      0.251        0.421       0.0   \n",
      "\n",
      "   lut as memory  lut as logic  slice lut  lut1  lut2  lut3  lut4  lut5  lut6  \\\n",
      "0            0.0           1.0        1.0   0.0   0.0   2.0   0.0   0.0   0.0   \n",
      "1            0.0           3.0        3.0   2.0   1.0   1.0   1.0   0.0   0.0   \n",
      "2            0.0           1.0        1.0   1.0   0.0   0.0   0.0   0.0   0.0   \n",
      "3            0.0          22.0       22.0   0.0   5.0   2.0   4.0   6.0  10.0   \n",
      "4            0.0           4.0        4.0   0.0   2.0   2.0   0.0   0.0   0.0   \n",
      "\n",
      "   lut7  \n",
      "0     0  \n",
      "1     0  \n",
      "2     0  \n",
      "3     0  \n",
      "4     0  \n"
     ]
    }
   ],
   "source": [
    "df = pd1.read_csv('result_summary.csv')\n",
    "print(df)"
   ]
  },
  {
   "cell_type": "code",
   "execution_count": null,
   "id": "9d2a42af-d383-4a7b-9719-a3476e42cb88",
   "metadata": {},
   "outputs": [],
   "source": []
  }
 ],
 "metadata": {
  "kernelspec": {
   "display_name": "Python 3",
   "language": "python",
   "name": "python3"
  },
  "language_info": {
   "codemirror_mode": {
    "name": "ipython",
    "version": 3
   },
   "file_extension": ".py",
   "mimetype": "text/x-python",
   "name": "python",
   "nbconvert_exporter": "python",
   "pygments_lexer": "ipython3",
   "version": "3.6.8"
  }
 },
 "nbformat": 4,
 "nbformat_minor": 5
}
